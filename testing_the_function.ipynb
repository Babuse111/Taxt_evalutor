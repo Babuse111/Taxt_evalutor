{
  "nbformat": 4,
  "nbformat_minor": 0,
  "metadata": {
    "colab": {
      "name": "testing_the_function.ipynb",
      "provenance": []
    },
    "kernelspec": {
      "name": "python3",
      "display_name": "Python 3"
    },
    "language_info": {
      "name": "python"
    }
  },
  "cells": [
    {
      "cell_type": "code",
      "execution_count": 3,
      "metadata": {
        "id": "a__S-0F3ujI6"
      },
      "outputs": [],
      "source": [
        "def function(str):\n",
        "  myList1 = ['shared', 'email']\n",
        "  mylist2 = ['share', 'email']\n",
        "\n",
        "  if all(x in str for x in myList1):\n",
        "    return 'Student has shared'\n",
        "  elif all(x in str for x in mylist2 ):\n",
        "    return 'Student wants to know if can share'\n",
        "  else:\n",
        "    return 'the email is not based on shering your email or not'\n"
      ]
    },
    {
      "cell_type": "code",
      "source": [
        "# now testig the funtion\n",
        "\"\"\"\n",
        "I will take the folling text from the intraction and test is:\n",
        "May I share your email( The funtion here must return that a student is asking)\n",
        "I've shared your email ( The funtion here must return that a student is addresing)\n",
        "\"\"\"\n",
        "function('May I share your email')=='Student wants to know if can share'"
      ],
      "metadata": {
        "colab": {
          "base_uri": "https://localhost:8080/"
        },
        "id": "e3ZRIGnxv_bZ",
        "outputId": "ba0e55a9-07bb-4396-878e-a4889bc54658"
      },
      "execution_count": 5,
      "outputs": [
        {
          "output_type": "execute_result",
          "data": {
            "text/plain": [
              "True"
            ]
          },
          "metadata": {},
          "execution_count": 5
        }
      ]
    },
    {
      "cell_type": "code",
      "source": [
        "function(\"I've shared your email\")=='Student has shared'"
      ],
      "metadata": {
        "colab": {
          "base_uri": "https://localhost:8080/"
        },
        "id": "E0m3xvlBx5oq",
        "outputId": "54b2e0df-b211-4796-e190-5d8a9dc94ffc"
      },
      "execution_count": 6,
      "outputs": [
        {
          "output_type": "execute_result",
          "data": {
            "text/plain": [
              "True"
            ]
          },
          "metadata": {},
          "execution_count": 6
        }
      ]
    }
  ]
}